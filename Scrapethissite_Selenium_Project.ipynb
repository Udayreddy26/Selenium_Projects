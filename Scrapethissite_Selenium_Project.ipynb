{
 "cells": [
  {
   "cell_type": "code",
   "execution_count": 1,
   "id": "582861f8",
   "metadata": {},
   "outputs": [],
   "source": [
    "from selenium import webdriver"
   ]
  },
  {
   "cell_type": "code",
   "execution_count": 2,
   "id": "877fbf67",
   "metadata": {},
   "outputs": [],
   "source": [
    "from selenium.webdriver.chrome.service import Service\n",
    "from webdriver_manager.chrome import ChromeDriverManager\n",
    "\n",
    "driver = webdriver.Chrome(service=Service(ChromeDriverManager().install()))\n",
    "driver.get(\"https://www.scrapethissite.com/pages/\")"
   ]
  },
  {
   "cell_type": "code",
   "execution_count": 3,
   "id": "14071405",
   "metadata": {},
   "outputs": [],
   "source": [
    "driver.get(\"https://www.scrapethissite.com/pages/ajax-javascript/\")"
   ]
  },
  {
   "cell_type": "code",
   "execution_count": 4,
   "id": "577fd687",
   "metadata": {},
   "outputs": [],
   "source": [
    "import time\n",
    "from selenium.webdriver.common.by import By\n",
    "\n",
    "link_btn = driver.find_element(By.LINK_TEXT, '2015')\n",
    "link_btn.click()\n"
   ]
  },
  {
   "cell_type": "code",
   "execution_count": 5,
   "id": "af176dbd",
   "metadata": {},
   "outputs": [
    {
     "data": {
      "text/plain": [
       "'table'"
      ]
     },
     "execution_count": 5,
     "metadata": {},
     "output_type": "execute_result"
    }
   ],
   "source": [
    "table_data = driver.find_element(By.CLASS_NAME, 'table')\n",
    "table_data.tag_name"
   ]
  },
  {
   "cell_type": "code",
   "execution_count": 6,
   "id": "27dc6aad",
   "metadata": {},
   "outputs": [],
   "source": [
    "driver.get('https://www.scrapethissite.com/pages/forms/')"
   ]
  },
  {
   "cell_type": "code",
   "execution_count": 7,
   "id": "55c66f66",
   "metadata": {},
   "outputs": [],
   "source": [
    "text_box = driver.find_element(By.ID, 'q')\n",
    "text_box.send_keys('New York Rangers')\n",
    "text_box.submit()\n"
   ]
  },
  {
   "cell_type": "code",
   "execution_count": 9,
   "id": "165a46f8",
   "metadata": {},
   "outputs": [],
   "source": [
    "from bs4 import BeautifulSoup\n",
    "import pandas as pd"
   ]
  },
  {
   "cell_type": "code",
   "execution_count": 21,
   "id": "0441c29c",
   "metadata": {},
   "outputs": [
    {
     "data": {
      "text/plain": [
       "bs4.element.Tag"
      ]
     },
     "execution_count": 21,
     "metadata": {},
     "output_type": "execute_result"
    }
   ],
   "source": [
    "page_data = BeautifulSoup(driver.page_source)\n",
    "team_data = page_data.table\n",
    "type(team_data)\n"
   ]
  },
  {
   "cell_type": "code",
   "execution_count": 23,
   "id": "346bc09d",
   "metadata": {},
   "outputs": [
    {
     "data": {
      "text/plain": [
       "[           Team Name  Year  Wins  Losses  OT Losses  Win %  Goals For (GF)  \\\n",
       " 0   New York Rangers  1990    36      31        NaN  0.450             297   \n",
       " 1   New York Rangers  1991    50      25        NaN  0.625             321   \n",
       " 2   New York Rangers  1992    34      39        NaN  0.405             304   \n",
       " 3   New York Rangers  1993    52      24        NaN  0.619             299   \n",
       " 4   New York Rangers  1994    22      23        NaN  0.458             139   \n",
       " 5   New York Rangers  1995    41      27        NaN  0.500             272   \n",
       " 6   New York Rangers  1996    38      34        NaN  0.463             258   \n",
       " 7   New York Rangers  1997    25      39        NaN  0.305             197   \n",
       " 8   New York Rangers  1998    33      38        NaN  0.402             217   \n",
       " 9   New York Rangers  1999    29      38        3.0  0.354             218   \n",
       " 10  New York Rangers  2000    33      43        1.0  0.402             250   \n",
       " 11  New York Rangers  2001    36      38        4.0  0.439             227   \n",
       " 12  New York Rangers  2002    32      36        4.0  0.390             210   \n",
       " 13  New York Rangers  2003    27      40        8.0  0.329             206   \n",
       " 14  New York Rangers  2005    44      26       12.0  0.537             257   \n",
       " 15  New York Rangers  2006    42      30       10.0  0.512             242   \n",
       " 16  New York Rangers  2007    42      27       13.0  0.512             213   \n",
       " 17  New York Rangers  2008    43      30        9.0  0.524             210   \n",
       " 18  New York Rangers  2009    38      33       11.0  0.463             222   \n",
       " 19  New York Rangers  2010    44      33        5.0  0.537             233   \n",
       " 20  New York Rangers  2011    51      24        7.0  0.622             226   \n",
       " \n",
       "     Goals Against (GA)  + / -  \n",
       " 0                  265     32  \n",
       " 1                  246     75  \n",
       " 2                  308     -4  \n",
       " 3                  231     68  \n",
       " 4                  134      5  \n",
       " 5                  237     35  \n",
       " 6                  231     27  \n",
       " 7                  231    -34  \n",
       " 8                  227    -10  \n",
       " 9                  246    -28  \n",
       " 10                 290    -40  \n",
       " 11                 258    -31  \n",
       " 12                 231    -21  \n",
       " 13                 250    -44  \n",
       " 14                 215     42  \n",
       " 15                 216     26  \n",
       " 16                 199     14  \n",
       " 17                 218     -8  \n",
       " 18                 218      4  \n",
       " 19                 198     35  \n",
       " 20                 187     39  ]"
      ]
     },
     "execution_count": 23,
     "metadata": {},
     "output_type": "execute_result"
    }
   ],
   "source": [
    "df = pd.read_html(str(team_data),header = 0)\n",
    "df"
   ]
  },
  {
   "cell_type": "code",
   "execution_count": 98,
   "id": "bfe2c155",
   "metadata": {},
   "outputs": [],
   "source": [
    "driver.get('https://www.scrapethissite.com/pages/forms/')"
   ]
  },
  {
   "cell_type": "code",
   "execution_count": 100,
   "id": "3af24c91",
   "metadata": {},
   "outputs": [
    {
     "name": "stdout",
     "output_type": "stream",
     "text": [
      "4\n"
     ]
    },
    {
     "data": {
      "text/plain": [
       "[         Team Name  Year  Wins  Losses  OT Losses  Win %  Goals For (GF)  \\\n",
       " 0   Buffalo Sabres  1990    31      30        NaN  0.388             292   \n",
       " 1   Buffalo Sabres  1991    31      37        NaN  0.388             289   \n",
       " 2   Buffalo Sabres  1992    38      36        NaN  0.452             335   \n",
       " 3   Buffalo Sabres  1993    43      32        NaN  0.512             282   \n",
       " 4   Buffalo Sabres  1994    22      19        NaN  0.458             130   \n",
       " 5   Buffalo Sabres  1995    33      42        NaN  0.402             247   \n",
       " 6   Buffalo Sabres  1996    40      30        NaN  0.488             237   \n",
       " 7   Buffalo Sabres  1997    36      29        NaN  0.439             211   \n",
       " 8   Buffalo Sabres  1998    37      28        NaN  0.451             207   \n",
       " 9   Buffalo Sabres  1999    35      32        4.0  0.427             213   \n",
       " 10  Buffalo Sabres  2000    46      30        1.0  0.561             218   \n",
       " 11  Buffalo Sabres  2001    35      35        1.0  0.427             213   \n",
       " 12  Buffalo Sabres  2002    27      37        8.0  0.329             190   \n",
       " 13  Buffalo Sabres  2003    37      34        4.0  0.451             220   \n",
       " 14  Buffalo Sabres  2005    52      24        6.0  0.634             281   \n",
       " 15  Buffalo Sabres  2006    53      22        7.0  0.646             308   \n",
       " 16  Buffalo Sabres  2007    39      31       12.0  0.476             255   \n",
       " 17  Buffalo Sabres  2008    41      32        9.0  0.500             250   \n",
       " 18  Buffalo Sabres  2009    45      27       10.0  0.549             235   \n",
       " 19  Buffalo Sabres  2010    43      29       10.0  0.524             245   \n",
       " 20  Buffalo Sabres  2011    39      32       11.0  0.476             218   \n",
       " \n",
       "     Goals Against (GA)  + / -  \n",
       " 0                  278     14  \n",
       " 1                  299    -10  \n",
       " 2                  297     38  \n",
       " 3                  218     64  \n",
       " 4                  119     11  \n",
       " 5                  262    -15  \n",
       " 6                  208     29  \n",
       " 7                  187     24  \n",
       " 8                  175     32  \n",
       " 9                  204      9  \n",
       " 10                 184     34  \n",
       " 11                 200     13  \n",
       " 12                 219    -29  \n",
       " 13                 221     -1  \n",
       " 14                 239     42  \n",
       " 15                 242     66  \n",
       " 16                 242     13  \n",
       " 17                 234     16  \n",
       " 18                 207     28  \n",
       " 19                 229     16  \n",
       " 20                 230    -12  ,\n",
       "          Team Name  Year  Wins  Losses  OT Losses  Win %  Goals For (GF)  \\\n",
       " 0   Calgary Flames  1990    46      26        NaN  0.575             344   \n",
       " 1   Calgary Flames  1991    31      37        NaN  0.388             296   \n",
       " 2   Calgary Flames  1992    43      30        NaN  0.512             322   \n",
       " 3   Calgary Flames  1993    42      29        NaN  0.500             302   \n",
       " 4   Calgary Flames  1994    24      17        NaN  0.500             163   \n",
       " 5   Calgary Flames  1995    34      37        NaN  0.415             241   \n",
       " 6   Calgary Flames  1996    32      41        NaN  0.390             214   \n",
       " 7   Calgary Flames  1997    26      41        NaN  0.317             217   \n",
       " 8   Calgary Flames  1998    30      40        NaN  0.366             211   \n",
       " 9   Calgary Flames  1999    31      36        5.0  0.378             211   \n",
       " 10  Calgary Flames  2000    27      36        4.0  0.329             197   \n",
       " 11  Calgary Flames  2001    32      35        3.0  0.390             201   \n",
       " 12  Calgary Flames  2002    29      36        4.0  0.354             186   \n",
       " 13  Calgary Flames  2003    42      30        3.0  0.512             200   \n",
       " 14  Calgary Flames  2005    46      25       11.0  0.561             218   \n",
       " 15  Calgary Flames  2006    43      29       10.0  0.524             258   \n",
       " 16  Calgary Flames  2007    42      30       10.0  0.512             229   \n",
       " 17  Calgary Flames  2008    46      30        6.0  0.561             254   \n",
       " 18  Calgary Flames  2009    40      32       10.0  0.488             204   \n",
       " 19  Calgary Flames  2010    41      29       12.0  0.500             250   \n",
       " 20  Calgary Flames  2011    37      29       16.0  0.451             202   \n",
       " \n",
       "     Goals Against (GA)  + / -  \n",
       " 0                  263     81  \n",
       " 1                  305     -9  \n",
       " 2                  282     40  \n",
       " 3                  256     46  \n",
       " 4                  135     28  \n",
       " 5                  240      1  \n",
       " 6                  239    -25  \n",
       " 7                  252    -35  \n",
       " 8                  234    -23  \n",
       " 9                  256    -45  \n",
       " 10                 236    -39  \n",
       " 11                 220    -19  \n",
       " 12                 228    -42  \n",
       " 13                 176     24  \n",
       " 14                 200     18  \n",
       " 15                 226     32  \n",
       " 16                 227      2  \n",
       " 17                 248      6  \n",
       " 18                 210     -6  \n",
       " 19                 237     13  \n",
       " 20                 226    -24  ,\n",
       "            Team Name  Year  Wins  Losses  OT Losses  Win %  Goals For (GF)  \\\n",
       " 0   New York Rangers  1990    36      31        NaN  0.450             297   \n",
       " 1   New York Rangers  1991    50      25        NaN  0.625             321   \n",
       " 2   New York Rangers  1992    34      39        NaN  0.405             304   \n",
       " 3   New York Rangers  1993    52      24        NaN  0.619             299   \n",
       " 4   New York Rangers  1994    22      23        NaN  0.458             139   \n",
       " 5   New York Rangers  1995    41      27        NaN  0.500             272   \n",
       " 6   New York Rangers  1996    38      34        NaN  0.463             258   \n",
       " 7   New York Rangers  1997    25      39        NaN  0.305             197   \n",
       " 8   New York Rangers  1998    33      38        NaN  0.402             217   \n",
       " 9   New York Rangers  1999    29      38        3.0  0.354             218   \n",
       " 10  New York Rangers  2000    33      43        1.0  0.402             250   \n",
       " 11  New York Rangers  2001    36      38        4.0  0.439             227   \n",
       " 12  New York Rangers  2002    32      36        4.0  0.390             210   \n",
       " 13  New York Rangers  2003    27      40        8.0  0.329             206   \n",
       " 14  New York Rangers  2005    44      26       12.0  0.537             257   \n",
       " 15  New York Rangers  2006    42      30       10.0  0.512             242   \n",
       " 16  New York Rangers  2007    42      27       13.0  0.512             213   \n",
       " 17  New York Rangers  2008    43      30        9.0  0.524             210   \n",
       " 18  New York Rangers  2009    38      33       11.0  0.463             222   \n",
       " 19  New York Rangers  2010    44      33        5.0  0.537             233   \n",
       " 20  New York Rangers  2011    51      24        7.0  0.622             226   \n",
       " \n",
       "     Goals Against (GA)  + / -  \n",
       " 0                  265     32  \n",
       " 1                  246     75  \n",
       " 2                  308     -4  \n",
       " 3                  231     68  \n",
       " 4                  134      5  \n",
       " 5                  237     35  \n",
       " 6                  231     27  \n",
       " 7                  231    -34  \n",
       " 8                  227    -10  \n",
       " 9                  246    -28  \n",
       " 10                 290    -40  \n",
       " 11                 258    -31  \n",
       " 12                 231    -21  \n",
       " 13                 250    -44  \n",
       " 14                 215     42  \n",
       " 15                 216     26  \n",
       " 16                 199     14  \n",
       " 17                 218     -8  \n",
       " 18                 218      4  \n",
       " 19                 198     35  \n",
       " 20                 187     39  ,\n",
       "          Team Name  Year  Wins  Losses  OT Losses  Win %  Goals For (GF)  \\\n",
       " 0   Calgary Flames  1990    46      26        NaN  0.575             344   \n",
       " 1   Calgary Flames  1991    31      37        NaN  0.388             296   \n",
       " 2   Calgary Flames  1992    43      30        NaN  0.512             322   \n",
       " 3   Calgary Flames  1993    42      29        NaN  0.500             302   \n",
       " 4   Calgary Flames  1994    24      17        NaN  0.500             163   \n",
       " 5   Calgary Flames  1995    34      37        NaN  0.415             241   \n",
       " 6   Calgary Flames  1996    32      41        NaN  0.390             214   \n",
       " 7   Calgary Flames  1997    26      41        NaN  0.317             217   \n",
       " 8   Calgary Flames  1998    30      40        NaN  0.366             211   \n",
       " 9   Calgary Flames  1999    31      36        5.0  0.378             211   \n",
       " 10  Calgary Flames  2000    27      36        4.0  0.329             197   \n",
       " 11  Calgary Flames  2001    32      35        3.0  0.390             201   \n",
       " 12  Calgary Flames  2002    29      36        4.0  0.354             186   \n",
       " 13  Calgary Flames  2003    42      30        3.0  0.512             200   \n",
       " 14  Calgary Flames  2005    46      25       11.0  0.561             218   \n",
       " 15  Calgary Flames  2006    43      29       10.0  0.524             258   \n",
       " 16  Calgary Flames  2007    42      30       10.0  0.512             229   \n",
       " 17  Calgary Flames  2008    46      30        6.0  0.561             254   \n",
       " 18  Calgary Flames  2009    40      32       10.0  0.488             204   \n",
       " 19  Calgary Flames  2010    41      29       12.0  0.500             250   \n",
       " 20  Calgary Flames  2011    37      29       16.0  0.451             202   \n",
       " \n",
       "     Goals Against (GA)  + / -  \n",
       " 0                  263     81  \n",
       " 1                  305     -9  \n",
       " 2                  282     40  \n",
       " 3                  256     46  \n",
       " 4                  135     28  \n",
       " 5                  240      1  \n",
       " 6                  239    -25  \n",
       " 7                  252    -35  \n",
       " 8                  234    -23  \n",
       " 9                  256    -45  \n",
       " 10                 236    -39  \n",
       " 11                 220    -19  \n",
       " 12                 228    -42  \n",
       " 13                 176     24  \n",
       " 14                 200     18  \n",
       " 15                 226     32  \n",
       " 16                 227      2  \n",
       " 17                 248      6  \n",
       " 18                 210     -6  \n",
       " 19                 237     13  \n",
       " 20                 226    -24  ]"
      ]
     },
     "execution_count": 100,
     "metadata": {},
     "output_type": "execute_result"
    }
   ],
   "source": [
    "team_list = ['Buffalo Sabres', 'Calgary Flames', 'New York Rangers', 'Calgary Flames']\n",
    "result_list = []\n",
    "\n",
    "for team in team_list:\n",
    "    text_box = driver.find_element(By.ID, 'q')\n",
    "    text_box.clear()\n",
    "    text_box.send_keys(team)\n",
    "    text_box.submit()\n",
    "    \n",
    "    page_data = BeautifulSoup(driver.page_source)\n",
    "    team_data = page_data.table\n",
    "    df = pd.read_html(str(team_data), header = 0)\n",
    "    result_list.append(df[0])\n",
    "print(len(result_list))\n",
    "result_list"
   ]
  },
  {
   "cell_type": "code",
   "execution_count": 40,
   "id": "904e2c7f",
   "metadata": {},
   "outputs": [],
   "source": [
    "#Oscar Winning Films: AJAX and Javascript "
   ]
  },
  {
   "cell_type": "code",
   "execution_count": 101,
   "id": "0de304fb",
   "metadata": {},
   "outputs": [],
   "source": [
    "driver.get('https://www.scrapethissite.com/pages/ajax-javascript/')"
   ]
  },
  {
   "cell_type": "code",
   "execution_count": 102,
   "id": "f99b126e",
   "metadata": {},
   "outputs": [],
   "source": [
    "link_btn = driver.find_element(By.LINK_TEXT,'2010')\n",
    "link_btn.click()\n"
   ]
  },
  {
   "cell_type": "code",
   "execution_count": 108,
   "id": "603c1795",
   "metadata": {},
   "outputs": [
    {
     "data": {
      "text/plain": [
       "'table'"
      ]
     },
     "execution_count": 108,
     "metadata": {},
     "output_type": "execute_result"
    }
   ],
   "source": [
    "table_data = driver.find_element(By.CLASS_NAME,'table')\n",
    "table_data.tag_name"
   ]
  },
  {
   "cell_type": "code",
   "execution_count": 109,
   "id": "df117545",
   "metadata": {},
   "outputs": [
    {
     "name": "stdout",
     "output_type": "stream",
     "text": [
      "<class 'bs4.element.Tag'>\n"
     ]
    }
   ],
   "source": [
    "from bs4 import BeautifulSoup\n",
    "import pandas as pd\n",
    "page_data = BeautifulSoup(driver.page_source)\n",
    "movie_data = page_data.html.table\n",
    "print(type(movie_data))"
   ]
  },
  {
   "cell_type": "code",
   "execution_count": 110,
   "id": "c8bf0d9c",
   "metadata": {},
   "outputs": [
    {
     "data": {
      "text/plain": [
       "[                  Title  Nominations  Awards  Best Picture\n",
       " 0     The King's Speech           12       4           NaN\n",
       " 1             Inception            8       4           NaN\n",
       " 2    The Social Network            8       3           NaN\n",
       " 3           The Fighter            7       2           NaN\n",
       " 4           Toy Story 3            5       2           NaN\n",
       " 5   Alice in Wonderland            3       2           NaN\n",
       " 6            Black Swan            5       1           NaN\n",
       " 7     In a Better World            1       1           NaN\n",
       " 8        The Lost Thing            1       1           NaN\n",
       " 9           God of Love            1       1           NaN\n",
       " 10          The Wolfman            1       1           NaN\n",
       " 11    Strangers No More            1       1           NaN\n",
       " 12           Inside Job            1       1           NaN]"
      ]
     },
     "execution_count": 110,
     "metadata": {},
     "output_type": "execute_result"
    }
   ],
   "source": [
    "df = pd.read_html(str(movie_data),header= 0)\n",
    "df"
   ]
  },
  {
   "cell_type": "code",
   "execution_count": 111,
   "id": "22b47167",
   "metadata": {},
   "outputs": [],
   "source": [
    "import time"
   ]
  },
  {
   "cell_type": "code",
   "execution_count": 112,
   "id": "9b915489",
   "metadata": {},
   "outputs": [],
   "source": [
    "driver.get('https://www.scrapethissite.com/pages/ajax-javascript/')\n",
    "year = 2015 \n",
    "link_btn = driver.find_element(By.LINK_TEXT,str(year))\n",
    "link_btn.click()\n",
    "time.sleep(5)\n"
   ]
  },
  {
   "cell_type": "code",
   "execution_count": 113,
   "id": "d32d3f0a",
   "metadata": {},
   "outputs": [
    {
     "name": "stdout",
     "output_type": "stream",
     "text": [
      "<class 'bs4.element.Tag'>\n"
     ]
    }
   ],
   "source": [
    "page_data = BeautifulSoup(driver.page_source)\n",
    "movie_data = page_data.html.table\n",
    "print(type(movie_data))"
   ]
  },
  {
   "cell_type": "code",
   "execution_count": 92,
   "id": "6af16ff3",
   "metadata": {},
   "outputs": [
    {
     "data": {
      "text/plain": [
       "[                                            Title  Nominations  Awards  \\\n",
       " 0                                       Spotlight            6       2   \n",
       " 1                              Mad Max: Fury Road           10       6   \n",
       " 2                                    The Revenant           12       3   \n",
       " 3                                 Bridge of Spies            6       1   \n",
       " 4                                   The Big Short            5       1   \n",
       " 5                                 The Danish Girl            4       1   \n",
       " 6                                            Room            4       1   \n",
       " 7                                      Ex Machina            2       1   \n",
       " 8                               The Hateful Eight            2       1   \n",
       " 9                                      Inside Out            2       1   \n",
       " 10                                            Amy            1       1   \n",
       " 11                                     Bear Story            1       1   \n",
       " 12  A Girl in the River: The Price of Forgiveness            1       1   \n",
       " 13                                    Son of Saul            1       1   \n",
       " 14                                        Spectre            1       1   \n",
       " 15                                      Stutterer            1       1   \n",
       " \n",
       "     Best Picture  \n",
       " 0            NaN  \n",
       " 1            NaN  \n",
       " 2            NaN  \n",
       " 3            NaN  \n",
       " 4            NaN  \n",
       " 5            NaN  \n",
       " 6            NaN  \n",
       " 7            NaN  \n",
       " 8            NaN  \n",
       " 9            NaN  \n",
       " 10           NaN  \n",
       " 11           NaN  \n",
       " 12           NaN  \n",
       " 13           NaN  \n",
       " 14           NaN  \n",
       " 15           NaN  ]"
      ]
     },
     "execution_count": 92,
     "metadata": {},
     "output_type": "execute_result"
    }
   ],
   "source": [
    "df = pd.read_html(str(movie_data),header= 0)\n",
    "df"
   ]
  },
  {
   "cell_type": "code",
   "execution_count": 118,
   "id": "d5d2b1c0",
   "metadata": {},
   "outputs": [
    {
     "data": {
      "text/plain": [
       "[                                            Title  Nominations  Awards  \\\n",
       " 0                                       Spotlight            6       2   \n",
       " 1                              Mad Max: Fury Road           10       6   \n",
       " 2                                    The Revenant           12       3   \n",
       " 3                                 Bridge of Spies            6       1   \n",
       " 4                                   The Big Short            5       1   \n",
       " 5                                 The Danish Girl            4       1   \n",
       " 6                                            Room            4       1   \n",
       " 7                                      Ex Machina            2       1   \n",
       " 8                               The Hateful Eight            2       1   \n",
       " 9                                      Inside Out            2       1   \n",
       " 10                                            Amy            1       1   \n",
       " 11                                     Bear Story            1       1   \n",
       " 12  A Girl in the River: The Price of Forgiveness            1       1   \n",
       " 13                                    Son of Saul            1       1   \n",
       " 14                                        Spectre            1       1   \n",
       " 15                                      Stutterer            1       1   \n",
       " \n",
       "     Best Picture  \n",
       " 0            NaN  \n",
       " 1            NaN  \n",
       " 2            NaN  \n",
       " 3            NaN  \n",
       " 4            NaN  \n",
       " 5            NaN  \n",
       " 6            NaN  \n",
       " 7            NaN  \n",
       " 8            NaN  \n",
       " 9            NaN  \n",
       " 10           NaN  \n",
       " 11           NaN  \n",
       " 12           NaN  \n",
       " 13           NaN  \n",
       " 14           NaN  \n",
       " 15           NaN  ]"
      ]
     },
     "execution_count": 118,
     "metadata": {},
     "output_type": "execute_result"
    }
   ],
   "source": [
    "from bs4 import BeautifulSoup\n",
    "from selenium.common.exceptions import NoSuchElementException\n",
    "import pandas as pd\n",
    "import time\n",
    "\n",
    "driver.get(\"https://www.scrapethissite.com/pages/ajax-javascript/\")\n",
    "result_list = []\n",
    "year = 2010\n",
    "\n",
    "while True:\n",
    "    try:\n",
    "        link_btn = driver.find_element(By.LINK_TEXT, str(year))\n",
    "        year += 1\n",
    "        link_btn.click()\n",
    "        \n",
    "        time.sleep(3)\n",
    "        \n",
    "        page_data = BeautifulSoup(driver.page_source)\n",
    "        movie_data = page_data.table\n",
    "        df = pd.read_html(str(movie_data), header=0)\n",
    "        result_list.append(df[0])\n",
    "        \n",
    "    except NoSuchElementException:\n",
    "        break\n",
    "        \n",
    "result_list\n",
    "df"
   ]
  },
  {
   "cell_type": "code",
   "execution_count": null,
   "id": "c4896e9a",
   "metadata": {},
   "outputs": [],
   "source": []
  },
  {
   "cell_type": "code",
   "execution_count": null,
   "id": "8384e651",
   "metadata": {},
   "outputs": [],
   "source": []
  },
  {
   "cell_type": "code",
   "execution_count": null,
   "id": "8b61e4d0",
   "metadata": {},
   "outputs": [],
   "source": []
  },
  {
   "cell_type": "code",
   "execution_count": null,
   "id": "6277cb98",
   "metadata": {},
   "outputs": [],
   "source": []
  },
  {
   "cell_type": "code",
   "execution_count": null,
   "id": "1220ab8d",
   "metadata": {},
   "outputs": [],
   "source": []
  },
  {
   "cell_type": "code",
   "execution_count": null,
   "id": "941e2389",
   "metadata": {},
   "outputs": [],
   "source": []
  },
  {
   "cell_type": "code",
   "execution_count": null,
   "id": "58f3807b",
   "metadata": {},
   "outputs": [],
   "source": []
  },
  {
   "cell_type": "code",
   "execution_count": null,
   "id": "89dbd829",
   "metadata": {},
   "outputs": [],
   "source": []
  },
  {
   "cell_type": "code",
   "execution_count": null,
   "id": "17056d13",
   "metadata": {},
   "outputs": [],
   "source": []
  },
  {
   "cell_type": "code",
   "execution_count": null,
   "id": "c0d48a31",
   "metadata": {},
   "outputs": [],
   "source": []
  }
 ],
 "metadata": {
  "kernelspec": {
   "display_name": "Python 3 (ipykernel)",
   "language": "python",
   "name": "python3"
  },
  "language_info": {
   "codemirror_mode": {
    "name": "ipython",
    "version": 3
   },
   "file_extension": ".py",
   "mimetype": "text/x-python",
   "name": "python",
   "nbconvert_exporter": "python",
   "pygments_lexer": "ipython3",
   "version": "3.9.12"
  }
 },
 "nbformat": 4,
 "nbformat_minor": 5
}
