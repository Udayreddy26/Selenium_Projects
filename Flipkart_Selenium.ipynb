{
 "cells": [
  {
   "cell_type": "code",
   "execution_count": 39,
   "id": "740a4777",
   "metadata": {},
   "outputs": [],
   "source": [
    "from selenium import webdriver\n"
   ]
  },
  {
   "cell_type": "code",
   "execution_count": 40,
   "id": "26002855",
   "metadata": {},
   "outputs": [],
   "source": [
    "from selenium.webdriver.chrome.service import Service\n",
    "from webdriver_manager.chrome import ChromeDriverManager\n",
    "\n",
    "driver = webdriver.Chrome(service=Service(ChromeDriverManager().install()))\n",
    "driver.get(\"https://www.flipkart.com\")"
   ]
  },
  {
   "cell_type": "code",
   "execution_count": 41,
   "id": "09c7d5ac",
   "metadata": {},
   "outputs": [],
   "source": [
    "from selenium.webdriver.common.by import By\n",
    "from bs4 import BeautifulSoup\n",
    "import pandas as pd\n",
    "driver.get('https://flipkart.com')"
   ]
  },
  {
   "cell_type": "code",
   "execution_count": 42,
   "id": "94fceeba",
   "metadata": {},
   "outputs": [],
   "source": [
    "text_box = driver.find_element(By.CLASS_NAME,'_3704LK')\n",
    "text_box.send_keys('mobile phones')\n",
    "text_box.submit()\n",
    "driver.implicitly_wait(3)"
   ]
  },
  {
   "cell_type": "code",
   "execution_count": 43,
   "id": "bf95ff7c",
   "metadata": {},
   "outputs": [
    {
     "name": "stdout",
     "output_type": "stream",
     "text": [
      "POCO M4 Pro 5G (Cool Blue, 128 GB)\n",
      "SAMSUNG Galaxy F13 (Waterfall Blue, 128 GB)\n",
      "SAMSUNG Galaxy F23 5G (Forest Green, 128 GB)\n",
      "SAMSUNG Galaxy F23 5G (Aqua Blue, 128 GB)\n",
      "SAMSUNG Galaxy F13 (Nightsky Green, 128 GB)\n",
      "SAMSUNG Galaxy F13 (Sunrise Copper, 64 GB)\n",
      "SAMSUNG Galaxy F13 (Nightsky Green, 64 GB)\n",
      "POCO M4 Pro 5G (Cool Blue, 64 GB)\n",
      "POCO C31 (Shadow Gray, 64 GB)\n",
      "Infinix HOT 20 Play (Luna Blue, 64 GB)\n",
      "APPLE iPhone 14 (Purple, 128 GB)\n",
      "POCO C31 (Royal Blue, 64 GB)\n",
      "MOTOROLA e40 (Carbon Gray, 64 GB)\n",
      "REDMI 9i Sport (Coral Green, 64 GB)\n",
      "realme C21Y (Cross Black, 64 GB)\n",
      "realme C21Y (Cross Blue, 64 GB)\n",
      "MOTOROLA e40 (Pink Clay, 64 GB)\n",
      "APPLE iPhone 14 (Midnight, 128 GB)\n",
      "REDMI 10 (Midnight Black, 64 GB)\n",
      "SAMSUNG Galaxy F23 5G (Forest Green, 128 GB)\n",
      "APPLE iPhone 14 Plus (Starlight, 128 GB)\n",
      "SAMSUNG Galaxy F23 5G (Copper Blush, 128 GB)\n",
      "MOTOROLA G32 (Mineral Gray, 64 GB)\n",
      "MOTOROLA G62 5G (Midnight Gray, 128 GB)\n"
     ]
    }
   ],
   "source": [
    "product_names = driver.find_elements(By.CLASS_NAME,'_4rR01T')\n",
    "for product in product_names:\n",
    "    print(product.text)"
   ]
  },
  {
   "cell_type": "code",
   "execution_count": 28,
   "id": "096437cb",
   "metadata": {},
   "outputs": [
    {
     "name": "stdout",
     "output_type": "stream",
     "text": [
      "₹34,999\n",
      "₹34,999\n",
      "₹34,999\n",
      "₹1,299\n",
      "₹1,299\n",
      "₹1,399\n",
      "₹1,399\n",
      "₹2,499\n",
      "₹2,075\n",
      "₹999\n",
      "₹1,399\n",
      "₹1,399\n",
      "₹27,499\n",
      "₹35,499\n",
      "₹937\n",
      "₹2,074\n",
      "₹2,074\n",
      "₹2,075\n",
      "₹936\n",
      "₹953\n",
      "₹1,099\n",
      "₹1,120\n",
      "₹1,520\n",
      "₹1,212\n"
     ]
    }
   ],
   "source": [
    "product_prices = driver.find_elements(By.CLASS_NAME,'_1_WHN1')\n",
    "for price in product_prices:\n",
    "    print(str(price.text))"
   ]
  },
  {
   "cell_type": "code",
   "execution_count": 29,
   "id": "d3d68cc4",
   "metadata": {},
   "outputs": [],
   "source": [
    "#Now we have product list and prices , to represent them together we use dictionary"
   ]
  },
  {
   "cell_type": "code",
   "execution_count": 31,
   "id": "fcacc349",
   "metadata": {},
   "outputs": [],
   "source": [
    "thisdict = {}"
   ]
  },
  {
   "cell_type": "code",
   "execution_count": 44,
   "id": "6d7a51d1",
   "metadata": {},
   "outputs": [
    {
     "name": "stdout",
     "output_type": "stream",
     "text": [
      "SAMSUNG Galaxy S21 FE 5G (Graphite, 128 GB) : ₹34,999\n",
      "SAMSUNG Galaxy S21 FE 5G (Olive, 128 GB) : ₹34,999\n",
      "SAMSUNG Galaxy S21 FE 5G (Lavender, 128 GB) : ₹34,999\n",
      "Nokia 105 SS : ₹1,299\n",
      "Nokia 105 SS : ₹1,299\n",
      "Nokia 105 PLUS : ₹1,399\n",
      "Nokia 105 PLUS : ₹1,399\n",
      "Nokia 150 DS 2020 : ₹2,499\n",
      "SAMSUNG Guru Music 2 : ₹2,075\n",
      "itel It2171 : ₹999\n",
      "Motorola a10 : ₹1,399\n",
      "Motorola a10 : ₹1,399\n",
      "Nothing Phone (1) (Black, 256 GB) : ₹27,499\n",
      "Nothing Phone (1) (White, 256 GB) : ₹35,499\n",
      "Micromax X412 : ₹937\n",
      "SAMSUNG GURU MUSIC 2 : ₹2,074\n",
      "SAMSUNG Guru Music 2 : ₹2,074\n",
      "SAMSUNG Guru Music 2 : ₹2,075\n",
      "Micromax X415 : ₹936\n",
      "Micromax X412 : ₹953\n",
      "Micromax X512 : ₹1,099\n",
      "Micromax X512 : ₹1,120\n",
      "Nokia 105 TA-1416 DS : ₹1,520\n",
      "LAVA A3 : ₹1,212\n",
      "POCO M4 Pro 5G (Cool Blue, 128 GB) : ₹13,999\n",
      "SAMSUNG Galaxy F13 (Waterfall Blue, 128 GB) : ₹10,499\n",
      "SAMSUNG Galaxy F23 5G (Forest Green, 128 GB) : ₹14,999\n",
      "SAMSUNG Galaxy F23 5G (Aqua Blue, 128 GB) : ₹14,999\n",
      "SAMSUNG Galaxy F13 (Nightsky Green, 128 GB) : ₹10,499\n",
      "SAMSUNG Galaxy F13 (Sunrise Copper, 64 GB) : ₹9,499\n",
      "SAMSUNG Galaxy F13 (Nightsky Green, 64 GB) : ₹9,499\n",
      "POCO M4 Pro 5G (Cool Blue, 64 GB) : ₹11,999\n",
      "POCO C31 (Shadow Gray, 64 GB) : ₹7,499\n",
      "Infinix HOT 20 Play (Luna Blue, 64 GB) : ₹8,199\n",
      "APPLE iPhone 14 (Purple, 128 GB) : ₹67,999\n",
      "POCO C31 (Royal Blue, 64 GB) : ₹7,499\n",
      "MOTOROLA e40 (Carbon Gray, 64 GB) : ₹7,999\n",
      "REDMI 9i Sport (Coral Green, 64 GB) : ₹7,199\n",
      "realme C21Y (Cross Black, 64 GB) : ₹10,499\n",
      "realme C21Y (Cross Blue, 64 GB) : ₹10,499\n",
      "MOTOROLA e40 (Pink Clay, 64 GB) : ₹7,999\n",
      "APPLE iPhone 14 (Midnight, 128 GB) : ₹66,999\n",
      "REDMI 10 (Midnight Black, 64 GB) : ₹8,999\n",
      "SAMSUNG Galaxy F23 5G (Forest Green, 128 GB) : ₹13,999\n",
      "APPLE iPhone 14 Plus (Starlight, 128 GB) : ₹75,999\n",
      "SAMSUNG Galaxy F23 5G (Copper Blush, 128 GB) : ₹14,999\n",
      "MOTOROLA G32 (Mineral Gray, 64 GB) : ₹9,999\n",
      "MOTOROLA G62 5G (Midnight Gray, 128 GB) : ₹14,999\n"
     ]
    }
   ],
   "source": [
    "product_names = driver.find_elements(By.CLASS_NAME,'_4rR01T')\n",
    "product_prices = driver.find_elements(By.CLASS_NAME,'_1_WHN1')\n",
    "for index,item in enumerate(product_names,0):\n",
    "    thisdict.update({item:product_prices[index]})\n",
    "for x,y in thisdict.items():\n",
    "    print(x.text + \" : \" +y.text)"
   ]
  },
  {
   "cell_type": "code",
   "execution_count": null,
   "id": "a967e9b6",
   "metadata": {},
   "outputs": [],
   "source": []
  }
 ],
 "metadata": {
  "kernelspec": {
   "display_name": "Python 3 (ipykernel)",
   "language": "python",
   "name": "python3"
  },
  "language_info": {
   "codemirror_mode": {
    "name": "ipython",
    "version": 3
   },
   "file_extension": ".py",
   "mimetype": "text/x-python",
   "name": "python",
   "nbconvert_exporter": "python",
   "pygments_lexer": "ipython3",
   "version": "3.9.12"
  }
 },
 "nbformat": 4,
 "nbformat_minor": 5
}
