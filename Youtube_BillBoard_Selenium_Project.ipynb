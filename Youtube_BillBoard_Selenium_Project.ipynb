{
 "cells": [
  {
   "cell_type": "code",
   "execution_count": 1,
   "id": "427f1d4c",
   "metadata": {},
   "outputs": [],
   "source": [
    "from selenium import webdriver"
   ]
  },
  {
   "cell_type": "code",
   "execution_count": 22,
   "id": "5a07a595",
   "metadata": {},
   "outputs": [],
   "source": [
    "from selenium.webdriver.chrome.service import Service\n",
    "from webdriver_manager.chrome import ChromeDriverManager\n",
    "\n",
    "driver = webdriver.Chrome(service=Service(ChromeDriverManager().install()))\n",
    "driver.get(\"https://www.youtube.com\")"
   ]
  },
  {
   "cell_type": "code",
   "execution_count": 23,
   "id": "86491edb",
   "metadata": {},
   "outputs": [],
   "source": [
    "from selenium.webdriver.common.by import By"
   ]
  },
  {
   "cell_type": "code",
   "execution_count": 24,
   "id": "3b2b310a",
   "metadata": {},
   "outputs": [
    {
     "data": {
      "text/plain": [
       "''"
      ]
     },
     "execution_count": 24,
     "metadata": {},
     "output_type": "execute_result"
    }
   ],
   "source": [
    "input_box = driver.find_element(By.XPATH,\"//input[@id = 'search']\")\n",
    "input_box.text"
   ]
  },
  {
   "cell_type": "code",
   "execution_count": 25,
   "id": "3d646d8e",
   "metadata": {},
   "outputs": [],
   "source": [
    "input_box.send_keys('Billboard Top 50 this week')\n",
    "input_box.submit()"
   ]
  },
  {
   "cell_type": "code",
   "execution_count": 27,
   "id": "c647ae66",
   "metadata": {},
   "outputs": [],
   "source": [
    "playlist_link = driver.find_element(By.XPATH, \"//a[contains(text(), 'View full playlist')]\")\n",
    "playlist_link.click()\n",
    "                                "
   ]
  },
  {
   "cell_type": "code",
   "execution_count": 39,
   "id": "5fe181a9",
   "metadata": {},
   "outputs": [
    {
     "name": "stdout",
     "output_type": "stream",
     "text": [
      "rank 1 : Harry Styles - As It Was (Official Video)\n",
      "rank 2 : Steve Lacy - Bad Habit (Official Video)\n",
      "rank 3 : Morray - Da Rant [Official Music Video]\n",
      "rank 4 : Taylor Swift - Anti-Hero (Official Music Video)\n",
      "rank 5 : Sam Smith, Kim Petras - Unholy (Official Music Video)\n",
      "rank 6 : SZA - Kill Bill (Official Video)\n",
      "rank 7 : Taylor Swift - Midnight Rain (Official Lyric Video)\n",
      "rank 8 : SZA - Kill Bill (Lyric Video)\n",
      "rank 9 : The Kid LAROI, Justin Bieber - STAY (Official Video)\n",
      "rank 10 : Metro Boomin, The Weeknd, 21 Savage - Creepin' (Visualizer)\n",
      "rank 11 : Zach Bryan - Something In The Orange\n",
      "rank 12 : Harry Styles - Late Night Talking (Official Video)\n",
      "rank 13 : Taylor Swift - Anti-Hero (Official Lyric Video)\n",
      "rank 14 : David Guetta & Bebe Rexha - I'm Good (Blue) [Official Music Video]\n",
      "rank 15 : Post Malone - I Like You (A Happier Song) w. Doja Cat [Official Music Video]\n",
      "rank 16 : Lizzo - 2 Be Loved (Am I Ready) [Official Video]\n",
      "rank 17 : ITS HAB ft. FCG HEEM - Portland 2 (Official Video)\n",
      "rank 18 : Nicki Minaj - Super Freaky Girl (Official Music Video)\n",
      "rank 19 : Latto - Big Energy (Official Video)\n",
      "rank 20 : Kane Brown, Katelyn Brown - Thank God (Official Music Video)\n",
      "rank 21 : Nicky Youre, dazy - Sunroof (Official Music Video)\n",
      "rank 22 : Sia - Unstoppable (Official Video - Live from the Nostalgic For The Present Tour)\n",
      "rank 23 : RAYE, 070 Shake - Escapism. (Official Music Video)\n",
      "rank 24 : Jack Harlow - First Class [Official Music Video]\n",
      "rank 25 : Chris Brown - Under The Influence (Official Video)\n",
      "rank 26 : Lizzo - About Damn Time [Official Video]\n",
      "rank 27 : Lewis Capaldi - Forget Me (Official Video)\n",
      "rank 28 : Meghan Trainor - Made You Look (Official Music Video)\n",
      "rank 29 : JVKE - golden hour (official music video)\n",
      "rank 30 : Eagles - Hotel California (Live 1977) (Official Video) [HD]\n",
      "rank 31 : Lil Nas X - STAR WALKIN' (League of Legends Worlds Anthem)\n",
      "rank 32 : Jax - Victoria’s Secret [Official Audio]\n",
      "rank 33 : Taylor Swift - Lavender Haze (Official Lyric Video)\n",
      "rank 34 : Rihanna - Lift Me Up (From Black Panther: Wakanda Forever)\n",
      "rank 35 : The Weeknd - Die For You (Official Music Video)\n",
      "rank 36 : OneRepublic - I Ain’t Worried (From “Top Gun: Maverick”) [Official Music Video]\n",
      "rank 37 : d4vd - Romantic Homicide (Official Music Video)\n",
      "rank 38 : Beyoncé - CUFF IT (Official Lyric Video)\n",
      "rank 39 : Marshmello, Khalid - Numb (Official Video)\n",
      "rank 40 : Yung Gravy - Betty (Get Money) (Official Music Video)\n",
      "rank 41 : Elton John, Britney Spears - Hold Me Closer (Official Video)\n",
      "rank 42 : Oliver Tree & Robin Schulz - Miss You [Official Music Video]\n",
      "rank 43 : Joji - Glimpse of Us (Official Video)\n",
      "rank 44 : Bad Bunny (ft. Chencho Corleone) - Me Porto Bonito (Official Video) | Un Verano Sin Ti\n",
      "rank 45 : Future - WAIT FOR U (Official Music Video) ft. Drake, Tems\n",
      "rank 46 : Beyoncé - BREAK MY SOUL (Official Lyric Video)\n",
      "rank 47 : Burna Boy - Last Last [Official Music Video]\n",
      "rank 48 : KSHMR - Anywhere's Home (Klingande Remix) [Official Audio]\n",
      "rank 49 : Harry Styles - Music For a Sushi Restaurant (Official Video)\n",
      "rank 50 : Taylor Swift - Maroon (Official Lyric Video)\n"
     ]
    }
   ],
   "source": [
    "video_names = driver.find_elements(By.CSS_SELECTOR, 'ytd-browse div#container div#meta a#video-title')\n",
    "for rank,video in enumerate(video_names,1):\n",
    "    print(\"rank\", str(rank) + \" : \" + video.text)\n",
    "    if rank >= 50:\n",
    "        break"
   ]
  },
  {
   "cell_type": "code",
   "execution_count": null,
   "id": "cd211a6e",
   "metadata": {},
   "outputs": [],
   "source": []
  },
  {
   "cell_type": "code",
   "execution_count": null,
   "id": "60907e15",
   "metadata": {},
   "outputs": [],
   "source": []
  }
 ],
 "metadata": {
  "kernelspec": {
   "display_name": "Python 3 (ipykernel)",
   "language": "python",
   "name": "python3"
  },
  "language_info": {
   "codemirror_mode": {
    "name": "ipython",
    "version": 3
   },
   "file_extension": ".py",
   "mimetype": "text/x-python",
   "name": "python",
   "nbconvert_exporter": "python",
   "pygments_lexer": "ipython3",
   "version": "3.9.12"
  }
 },
 "nbformat": 4,
 "nbformat_minor": 5
}
